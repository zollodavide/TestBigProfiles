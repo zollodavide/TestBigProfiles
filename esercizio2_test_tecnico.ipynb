{
  "nbformat": 4,
  "nbformat_minor": 0,
  "metadata": {
    "colab": {
      "name": "esercizio2_test_tecnico.ipynb",
      "provenance": [],
      "collapsed_sections": []
    },
    "kernelspec": {
      "name": "python3",
      "display_name": "Python 3"
    },
    "language_info": {
      "name": "python"
    }
  },
  "cells": [
    {
      "cell_type": "markdown",
      "metadata": {
        "id": "Mv6blgC7bSRH"
      },
      "source": [
        "Setup Spark"
      ]
    },
    {
      "cell_type": "code",
      "metadata": {
        "colab": {
          "base_uri": "https://localhost:8080/",
          "height": 222
        },
        "id": "0g7Uzfl7tyrv",
        "outputId": "2406b46a-3cc0-438a-8fb9-7f68363e8c08"
      },
      "source": [
        "!apt-get install openjdk-8-jdk-headless -qq > /dev/null\n",
        "!wget -q https://www-us.apache.org/dist/spark/spark-3.1.1/spark-3.1.1-bin-hadoop2.7.tgz\n",
        "!tar -xf spark-3.1.1-bin-hadoop2.7.tgz\n",
        "!pip install -q findspark\n",
        "import time\n",
        "import os\n",
        "os.environ[\"JAVA_HOME\"] = \"/usr/lib/jvm/java-8-openjdk-amd64\"\n",
        "os.environ[\"SPARK_HOME\"] = \"/content/spark-3.1.1-bin-hadoop2.7\"\n",
        "\n",
        "import findspark\n",
        "findspark.init()\n",
        "\n",
        "import pyspark\n",
        "from pyspark.sql import SparkSession\n",
        "spark = SparkSession.builder\\\n",
        "        .master(\"local\")\\\n",
        "        .appName(\"Colab\")\\\n",
        "        .config('spark.ui.port', '4050')\\\n",
        "        .getOrCreate()\n",
        "\n",
        "spark"
      ],
      "execution_count": 107,
      "outputs": [
        {
          "output_type": "execute_result",
          "data": {
            "text/html": [
              "\n",
              "            <div>\n",
              "                <p><b>SparkSession - in-memory</b></p>\n",
              "                \n",
              "        <div>\n",
              "            <p><b>SparkContext</b></p>\n",
              "\n",
              "            <p><a href=\"http://ed7cf5c88bae:4050\">Spark UI</a></p>\n",
              "\n",
              "            <dl>\n",
              "              <dt>Version</dt>\n",
              "                <dd><code>v3.1.1</code></dd>\n",
              "              <dt>Master</dt>\n",
              "                <dd><code>local</code></dd>\n",
              "              <dt>AppName</dt>\n",
              "                <dd><code>Colab</code></dd>\n",
              "            </dl>\n",
              "        </div>\n",
              "        \n",
              "            </div>\n",
              "        "
            ],
            "text/plain": [
              "<pyspark.sql.session.SparkSession at 0x7f0c6fad3d90>"
            ]
          },
          "metadata": {
            "tags": []
          },
          "execution_count": 107
        }
      ]
    },
    {
      "cell_type": "markdown",
      "metadata": {
        "id": "00klBynT6hTI"
      },
      "source": [
        "Tempo totale dal blocco sottostante: 11s"
      ]
    },
    {
      "cell_type": "code",
      "metadata": {
        "id": "j_mFY4U_tL6d",
        "colab": {
          "base_uri": "https://localhost:8080/"
        },
        "outputId": "f8f518ac-14ea-4b0f-8e63-4174a0148087"
      },
      "source": [
        "df = spark.read.csv('sample_data/exercise_2.txt',inferSchema=True, header =True)\n",
        "df.show(5)"
      ],
      "execution_count": 108,
      "outputs": [
        {
          "output_type": "stream",
          "text": [
            "+---+-----+\n",
            "| ID|Value|\n",
            "+---+-----+\n",
            "|  A|   -8|\n",
            "|  Z|    6|\n",
            "|  P|    5|\n",
            "|  A|  -10|\n",
            "|  X|    0|\n",
            "+---+-----+\n",
            "only showing top 5 rows\n",
            "\n"
          ],
          "name": "stdout"
        }
      ]
    },
    {
      "cell_type": "markdown",
      "metadata": {
        "id": "LvJGFFzE6zhk"
      },
      "source": [
        "Calcolo la media dell'intera colonna Value"
      ]
    },
    {
      "cell_type": "code",
      "metadata": {
        "colab": {
          "base_uri": "https://localhost:8080/"
        },
        "id": "B1gTeQXZr9VH",
        "outputId": "71adf381-acbc-4852-acbd-68b858406049"
      },
      "source": [
        "from pyspark.sql.functions import avg,col\n",
        "total_avg = df.select(avg(\"Value\")).collect()[0][0]\n",
        "total_avg"
      ],
      "execution_count": 109,
      "outputs": [
        {
          "output_type": "execute_result",
          "data": {
            "text/plain": [
              "-0.4998024"
            ]
          },
          "metadata": {
            "tags": []
          },
          "execution_count": 109
        }
      ]
    },
    {
      "cell_type": "markdown",
      "metadata": {
        "id": "qRo9tlU567_x"
      },
      "source": [
        "In ordine si realizzano le seguenti operazioni:\n",
        "\n",
        "- GroupBy in base all'ID aggregando la colonna Value come media dei valori.\n",
        "- Trasformazione tramite la funzione withColumn, realizzando la sottrazione del valore della media dell'ID meno la media totale.\n",
        "- Sorting dei risultati in base all'ID."
      ]
    },
    {
      "cell_type": "code",
      "metadata": {
        "colab": {
          "base_uri": "https://localhost:8080/"
        },
        "id": "gWavqeQwyAx_",
        "outputId": "9421e0d9-2a70-4c0e-eb3d-1b1966c75b37"
      },
      "source": [
        "gruppi = df.groupBy(\"ID\").agg(avg(\"Value\").alias(\"mean\")).withColumn(\"Distance\", col(\"mean\")-total_avg).orderBy(\"ID\").show(truncate=False)"
      ],
      "execution_count": 110,
      "outputs": [
        {
          "output_type": "stream",
          "text": [
            "+---+--------------------+---------------------+\n",
            "|ID |mean                |Distance             |\n",
            "+---+--------------------+---------------------+\n",
            "|A  |-0.48894494270054806|0.010857457299451923 |\n",
            "|B  |-0.5040795751005602 |-0.004277175100560249|\n",
            "|C  |-0.4802683339846294 |0.019534066015370555 |\n",
            "|D  |-0.5069762122598354 |-0.007173812259835377|\n",
            "|E  |-0.49876027056187233|0.001042129438127648 |\n",
            "|F  |-0.5044120398278836 |-0.004609639827883649|\n",
            "|G  |-0.4942143719224343 |0.005588028077565699 |\n",
            "|H  |-0.49937647582574646|4.2592417425352247E-4|\n",
            "|I  |-0.5005939851191097 |-7.915851191097056E-4|\n",
            "|J  |-0.4952244258872651 |0.004577974112734862 |\n",
            "|K  |-0.5110657700235265 |-0.011263370023526509|\n",
            "|L  |-0.5160278854083998 |-0.016225485408399853|\n",
            "|M  |-0.5061216100901201 |-0.006319210090120153|\n",
            "|N  |-0.5098104958920416 |-0.010008095892041657|\n",
            "|O  |-0.49119270059338854|0.008609699406611437 |\n",
            "|P  |-0.48528618379043337|0.014516216209566613 |\n",
            "|Q  |-0.5034903605752987 |-0.003687960575298743|\n",
            "|R  |-0.48832472010247535|0.011477679897524629 |\n",
            "|S  |-0.4973258001808788 |0.0024765998191211835|\n",
            "|T  |-0.5047922242422824 |-0.004989824242282448|\n",
            "+---+--------------------+---------------------+\n",
            "only showing top 20 rows\n",
            "\n"
          ],
          "name": "stdout"
        }
      ]
    }
  ]
}